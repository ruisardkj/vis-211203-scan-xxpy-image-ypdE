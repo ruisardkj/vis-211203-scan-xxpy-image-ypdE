{
 "cells": [
  {
   "cell_type": "markdown",
   "id": "e7705f3f-3479-411d-af2f-791f9bf0c2b8",
   "metadata": {
    "tags": []
   },
   "source": [
    "# View 5D beam density data interactively\n",
    "\n",
    "Data has been thresholded and interpolated onto a regular grid. The resolution is comparable to the measurement resolution, but the camera resolution (dimensions y3 and x3) have been reduced by a factor of 2.\n",
    "\n",
    "Coordinates are still in measurement/lab coordinates (slit positions and camera pixels). They have not yet been transformed to phase space coordinates. \n",
    "A component of the linear correlation between x1 and x2 has also been removed. The plot axes and slider bar units are in # of grid cells.\n",
    "\n",
    "$x_3$ = x position at VS06 \\\n",
    "$y_3$ = y position at VS06 \\\n",
    "$x_2$ = position of VT06 slit \\\n",
    "$y_1$ = position of HZ04 slit \\\n",
    "$x_1$ = position of VT04 slit\n",
    "\n",
    "$x = x_1$ \\\n",
    "$y = y_1$ \\\n",
    "$x' = (x_2- 0.35 x_1)/(s_2-s_1)$ \\\n",
    "$y' ~= (y_3-y_1)/(s_3-s_1)$ \\\n",
    "$w  = f(x_3,x_2,x_1) $ \n",
    "\n"
   ]
  },
  {
   "cell_type": "code",
   "execution_count": 1,
   "id": "e1589e7d-08b1-410f-ac50-21766c69fa1f",
   "metadata": {},
   "outputs": [],
   "source": [
    "%matplotlib inline"
   ]
  },
  {
   "cell_type": "code",
   "execution_count": 2,
   "id": "3258ca5d-019f-4555-91d7-92af88e2e41f",
   "metadata": {},
   "outputs": [],
   "source": [
    "import numpy as np\n",
    "import matplotlib.pyplot as plt\n",
    "import plotly.graph_objs as go\n",
    "from ipywidgets import interact\n",
    "\n",
    "filename = 'data/processed_rawgrid_merged-211203151919-211203192701-scan-xxpy-image-ypdE.npz'\n",
    "arrays_3d = np.load(filename)['a3d']"
   ]
  },
  {
   "cell_type": "code",
   "execution_count": 3,
   "id": "4ebf0869-c441-40a3-a912-b34c71238260",
   "metadata": {},
   "outputs": [
    {
     "name": "stdout",
     "output_type": "stream",
     "text": [
      "Center at index (x1,x2,y1,y3,x3) = (16,16,15,27,57)\n",
      "peak value 204814.33, normalized to 1\n"
     ]
    }
   ],
   "source": [
    "arrays_3d_max = arrays_3d.max()\n",
    "ix1,ix2,iy1,iy3,ix3 = np.where(arrays_3d==arrays_3d_max)\n",
    "ix1 = ix1[0];  ix2 = ix2[0]; ix3 = ix3[0]; iy1 = iy1[0]; iy3 = iy3[0]\n",
    "cind = (ix1,ix2,iy1,iy3,ix3)\n",
    "a3dshape = np.shape(arrays_3d)\n",
    "print('Center at index (x1,x2,y1,y3,x3) = (%i,%i,%i,%i,%i)'%(ix1,ix2,iy1,iy3,ix3))\n",
    "\n",
    "arrays_3d = arrays_3d / arrays_3d_max\n",
    "print('peak value %.2f, normalized to 1'%(arrays_3d_max))"
   ]
  },
  {
   "cell_type": "code",
   "execution_count": 4,
   "id": "60407b6e-c768-4104-a604-966fe4b9e669",
   "metadata": {
    "tags": []
   },
   "outputs": [],
   "source": [
    "## Define functions for generating plots\n",
    "\n",
    "dims = ('x1','x2','y1','y3','x3')\n",
    "\n",
    "def plot_image(image,log=False):\n",
    "    nx = np.shape(image)[1]\n",
    "    ny = np.shape(image)[0]\n",
    "    xpx = np.arange(nx)\n",
    "    ypx = np.arange(ny)\n",
    "    if log:\n",
    "        floor = np.min(image[image>0])\n",
    "        plt.pcolor(xpx,ypx,np.log10(floor+image),shading='auto')\n",
    "        #plt.plot(xpx,0.1*ny*(3+np.log10(profx/profx.max())),'r')\n",
    "        #plt.plot(0.1*nx*(3+np.log10(profy/profy.max())),ypx,'r')\n",
    "        #plt.ylim([0,ny])\n",
    "        #plt.xlim([0,nx])\n",
    "    else:    \n",
    "        plt.pcolor(xpx,ypx,image,shading='auto')\n",
    "        sumima = image.sum().sum()\n",
    "        if sumima > 0:\n",
    "            profx = image.sum(axis=0) / sumima\n",
    "            profy = image.sum(axis=1) / sumima\n",
    "            plt.plot(xpx,ny*0.2*profx/profx.max(),'w')\n",
    "            plt.plot(1+nx*0.2*profy/profy.max(),ypx,'w')\n",
    "\n",
    "def make_slice(dim_names,slices):\n",
    "    \"\"\"\n",
    "    dim_ind is two-element list, indices indicate \n",
    "    which axes will be plotted. Other axes will \n",
    "    be slider bars.\n",
    "    \"\"\"\n",
    "    #print(slices); print(dim_names)\n",
    "    slicer = []; \n",
    "    counter = 0\n",
    "    for i in range(len(dims)):\n",
    "        #print(counter)\n",
    "        if dims[i] in dim_names:\n",
    "            slicer.append(slice(0,a3dshape[i]))\n",
    "        else:\n",
    "            slicer.append(slices[counter])\n",
    "            counter += 1\n",
    "    return slicer\n",
    "\n",
    "\n",
    "def update_slice(i,j,k,dim1='y3',dim2='x3',cfix=False,clim=arrays_3d_max,log=False):\n",
    "    dim_names = [dim1,dim2]\n",
    "    slicer = make_slice(dim_names,[i,j,k])\n",
    "    ima = arrays_3d[tuple(slicer)]\n",
    "    plt.figure(1)\n",
    "    plot_image(ima,log=log); \n",
    "    plt.colorbar(); \n",
    "    # -- labels \n",
    "    # ensure assigned to correct axes\n",
    "    axes_labels = []\n",
    "    for dim in dims:\n",
    "        if dim in dim_names:\n",
    "            axes_labels.append(dim)\n",
    "    plt.ylabel(axes_labels[0])\n",
    "    plt.xlabel(axes_labels[1])\n",
    "    # -- color axis range\n",
    "    if cfix:\n",
    "        if log:\n",
    "            plt.clim([-1,np.log10(clim)])\n",
    "        else:\n",
    "            plt.clim([0,clim])\n",
    "    plt.show();\n",
    "    \n",
    "def make_sum(dim_names,thisdims):\n",
    "    \"\"\"\n",
    "    dim_ind is two-element list, indices indicate \n",
    "    which axes will be plotted. \n",
    "    Other axes will be summed.\n",
    "    \"\"\"\n",
    "    axes_to_sum = []\n",
    "    counter = 0\n",
    "    for i in range(len(thisdims)):\n",
    "        if thisdims[i] in dim_names:\n",
    "            counter+=1\n",
    "        else:\n",
    "            axes_to_sum.append(counter)\n",
    "    return axes_to_sum\n",
    "\n",
    "def update_projection(dim1='y3',dim2='x3',cfix=False,clim=arrays_3d_max,log=False):\n",
    "    dim_names = [dim1,dim2]\n",
    "    axes_to_sum = make_sum(dim_names,dims)\n",
    "    ima = arrays_3d.sum(axes_to_sum[0]).sum(axes_to_sum[1]).sum(axes_to_sum[2])\n",
    "    plt.figure(1)\n",
    "    plot_image(ima,log=log); \n",
    "    plt.colorbar(); \n",
    "    # -- labels \n",
    "    # ensure assigned to correct axes\n",
    "    axes_labels = []\n",
    "    for dim in dims:\n",
    "        if dim in dim_names:\n",
    "            axes_labels.append(dim)\n",
    "    plt.ylabel(axes_labels[0])\n",
    "    plt.xlabel(axes_labels[1])\n",
    "    # -- color axis range\n",
    "    if cfix:\n",
    "        if log:\n",
    "            plt.clim([-1,np.log10(clim)])\n",
    "        else:\n",
    "            plt.clim([0,clim])\n",
    "    plt.show();\n",
    "    \n",
    "def update_slice2_proj1(i,j,dim1='x1',dim2='y1',int_dim='x3',cfix=False,clim=1,log=False):\n",
    "    dim_names = [dim1,dim2,int_dim]\n",
    "    # -- first select slices in 2 axes\n",
    "    slicer = make_slice(dim_names,[i,j])\n",
    "    slice_dims = list(dims)\n",
    "    [slice_dims.pop(slice_dims.index(dim_names[ii])) for ii in range(len(dim_names))]\n",
    "    ima_tmp = arrays_3d[tuple(slicer)]\n",
    "\n",
    "    # -- next sum over 1 axis\n",
    "    dim_names_2 = [dim1,dim2]\n",
    "    dim_names_3 = []\n",
    "    for dim in dims:\n",
    "        if dim in dim_names:\n",
    "            dim_names_3.append(dim)\n",
    "    axes_to_sum = make_sum(dim_names_2,dim_names_3)\n",
    "    ima = ima_tmp.sum(axes_to_sum[0])\n",
    "\n",
    "\n",
    "    plt.figure()\n",
    "    plot_image(ima,log=log); \n",
    "    plt.colorbar(); \n",
    "    # -- labels \n",
    "    # ensure assigned to correct axes\n",
    "    axes_labels = []\n",
    "    for dim in dims:\n",
    "        if dim in dim_names_2:\n",
    "            axes_labels.append(dim)\n",
    "    plt.ylabel(axes_labels[0])\n",
    "    plt.xlabel(axes_labels[1])\n",
    "    # -- color axis range\n",
    "    if cfix:\n",
    "        if log:\n",
    "            plt.clim([-1,np.log10(clim)])\n",
    "        else:\n",
    "            plt.clim([0,clim])\n",
    "    plt.show();\n",
    "    \n",
    "def update_slice1_proj2(i,dim1='x1',dim2='y1',int_dim1='x2',int_dim2='y3',cfix=False,clim=1,log=False):\n",
    "    dim_names = [dim1,dim2,int_dim1,int_dim2]\n",
    "    # -- first select slices in 2 axes\n",
    "    slicer = make_slice(dim_names,[i])\n",
    "    slice_dims = list(dims)\n",
    "    [slice_dims.pop(slice_dims.index(dim_names[ii])) for ii in range(len(dim_names))]\n",
    "    ima_tmp = arrays_3d[tuple(slicer)]\n",
    "\n",
    "    # -- next sum over 2 axes\n",
    "    dim_names_2 = [dim1,dim2]\n",
    "    dim_names_3 = []\n",
    "    for dim in dims:\n",
    "        if dim in dim_names:\n",
    "            dim_names_3.append(dim)\n",
    "    axes_to_sum = make_sum(dim_names_2,dim_names_3)\n",
    "    ima = ima_tmp.sum(axes_to_sum[0]).sum(axes_to_sum[1])\n",
    "\n",
    "\n",
    "    plt.figure()\n",
    "    plot_image(ima,log=log); \n",
    "    plt.colorbar(); \n",
    "    # -- labels \n",
    "    # ensure assigned to correct axes\n",
    "    axes_labels = []\n",
    "    for dim in dims:\n",
    "        if dim in dim_names_2:\n",
    "            axes_labels.append(dim)\n",
    "    plt.ylabel(axes_labels[0])\n",
    "    plt.xlabel(axes_labels[1])\n",
    "    # -- color axis range\n",
    "    if cfix:\n",
    "        if log:\n",
    "            plt.clim([-1,np.log10(clim)])\n",
    "        else:\n",
    "            plt.clim([0,clim])\n",
    "    plt.show();\n",
    "    \n",
    "    \n",
    "# -- get slider range info\n",
    "sliders = []\n",
    "for i in range(len(dims)):\n",
    "    sliders.append((0,a3dshape[i],1))"
   ]
  },
  {
   "cell_type": "code",
   "execution_count": null,
   "id": "2c6fbdad-e653-44f8-8e80-0367f348c179",
   "metadata": {},
   "outputs": [],
   "source": []
  },
  {
   "cell_type": "markdown",
   "id": "ae198690-3276-4227-9bf3-f9c40edfa91a",
   "metadata": {
    "tags": []
   },
   "source": [
    "## Full projection"
   ]
  },
  {
   "cell_type": "code",
   "execution_count": 5,
   "id": "ca86abb8-a7f3-42df-b10a-8dcfa0d228b7",
   "metadata": {
    "tags": []
   },
   "outputs": [
    {
     "data": {
      "application/vnd.jupyter.widget-view+json": {
       "model_id": "70f99eff9d5e43a585e7161b59d4410b",
       "version_major": 2,
       "version_minor": 0
      },
      "text/plain": [
       "interactive(children=(Dropdown(description='dim1', index=3, options=('x1', 'x2', 'y1', 'y3', 'x3'), value='y3'…"
      ]
     },
     "metadata": {},
     "output_type": "display_data"
    }
   ],
   "source": [
    "# Create figure\n",
    "fig= go.FigureWidget()\n",
    "heatmap = fig.add_heatmap()\n",
    "fig\n",
    "\n",
    "\n",
    "@interact(dim1=list(dims),dim2=list(dims),logscale=False)\n",
    "def update(dim1='y3',dim2='x3',logscale=False):\n",
    "    with fig.batch_update():\n",
    "        ima = update_projection(dim1=dim1,dim2=dim2,log=logscale)\n",
    "        heatmap.data = ima\n"
   ]
  },
  {
   "cell_type": "markdown",
   "id": "48f65b9c-7bb1-4545-92aa-5a10b80cf480",
   "metadata": {
    "tags": []
   },
   "source": [
    "## View 2D slice in 5D density\n",
    "\n",
    "dim1 and dim2 are the names of the dimensions to plot. Move the slider bars to select which slice you are viewing. Note that the slider bars for dim1 and dim2 are not be active."
   ]
  },
  {
   "cell_type": "code",
   "execution_count": 6,
   "id": "8c26bb49-0c82-4f44-8ade-02e5e91205a2",
   "metadata": {
    "tags": []
   },
   "outputs": [
    {
     "data": {
      "application/vnd.jupyter.widget-view+json": {
       "model_id": "f4d87f69ec444a968413904889e7b8c8",
       "version_major": 2,
       "version_minor": 0
      },
      "text/plain": [
       "interactive(children=(Dropdown(description='dim1', index=3, options=('x1', 'x2', 'y1', 'y3', 'x3'), value='y3'…"
      ]
     },
     "metadata": {},
     "output_type": "display_data"
    }
   ],
   "source": [
    "# Create figure\n",
    "fig = go.FigureWidget()\n",
    "heatmap = fig.add_heatmap()\n",
    "\n",
    "        \n",
    "@interact(dim1=list(dims),dim2=list(dims),\n",
    "          x1 = sliders[0], x2 = sliders[1], y1 = sliders[2], y3 = sliders[3], x3 = sliders[4],\n",
    "          clim_fix=False,clim=(0,1,.01),logscale=False)\n",
    "def update(dim1='y3',dim2='x3',\n",
    "           x1=cind[0],x2=cind[1],y1=cind[2],y3=cind[3],x3=cind[4],\n",
    "           logscale=False,clim_fix=False,clim=arrays_3d_max):\n",
    "    \n",
    "    slices = []\n",
    "    for i in range(len(dims)):\n",
    "        if not(dims[i] in [dim1,dim2]):\n",
    "            slices.append(eval(dims[i]))\n",
    "            \n",
    "    with fig.batch_update():\n",
    "        ima = update_slice(slices[0],slices[1],slices[2],dim1=dim1,dim2=dim2,cfix=clim_fix,clim=clim,log=logscale)\n",
    "        heatmap.data = ima\n",
    "\n"
   ]
  },
  {
   "cell_type": "markdown",
   "id": "44940e0a-3a1d-4386-9d5b-95c0821423fc",
   "metadata": {
    "tags": []
   },
   "source": [
    "## View 2D slice in 4D density\n",
    "\n",
    "dim1 and dim2 are the names of the dimensions to plot. int_dim is the name of the dimension to project along. \n",
    "\n",
    "Move the slider bars to select which slice you are viewing. Note that the slider bars for dim1, dim2 and int_dim are not be active."
   ]
  },
  {
   "cell_type": "code",
   "execution_count": 7,
   "id": "a3ec905a-bb38-4ab6-81a6-a7f6a34bdbc5",
   "metadata": {},
   "outputs": [
    {
     "data": {
      "application/vnd.jupyter.widget-view+json": {
       "model_id": "c5513ee90d6746cfb2549cb9a6518813",
       "version_major": 2,
       "version_minor": 0
      },
      "text/plain": [
       "interactive(children=(Dropdown(description='dim1', index=3, options=('x1', 'x2', 'y1', 'y3', 'x3'), value='y3'…"
      ]
     },
     "metadata": {},
     "output_type": "display_data"
    }
   ],
   "source": [
    "# Create figure\n",
    "fig = go.FigureWidget()\n",
    "heatmap = fig.add_heatmap()\n",
    "\n",
    "        \n",
    "@interact(dim1=list(dims),dim2=list(dims),int_dim= list(dims),\n",
    "          x1 = sliders[0], x2 = sliders[1], y1 = sliders[2], y3 = sliders[3], x3 = sliders[4],\n",
    "          clim_fix=False,clim=(0,20,.01),logscale=False)\n",
    "def update(dim1='y3',dim2='x3',int_dim='x1',\n",
    "           x1=cind[0],x2=cind[1],y1=cind[2],y3=cind[3],x3=cind[4],\n",
    "           logscale=False,clim_fix=False,clim=10):\n",
    "    \n",
    "    slices = []\n",
    "    for i in range(len(dims)):\n",
    "        if not(dims[i] in [dim1,dim2,int_dim]):\n",
    "            slices.append(eval(dims[i]))\n",
    "            \n",
    "    with fig.batch_update():\n",
    "        ima = update_slice2_proj1(slices[0],slices[1],dim1=dim1,dim2=dim2,int_dim=int_dim,cfix=clim_fix,clim=clim,log=logscale)\n",
    "        heatmap.data = ima\n",
    "\n"
   ]
  },
  {
   "cell_type": "markdown",
   "id": "b1bccd2b-fddf-40a0-aca3-67a0961901ba",
   "metadata": {
    "tags": []
   },
   "source": [
    "## View 2D slice in 3D density\n",
    "\n",
    "dim1 and dim2 are the names of the dimensions to plot. int_dim1 and int_dim2 are the names of the dimensions to project along. \n",
    "\n",
    "Move the slider bars to select which slice you are viewing. Note that the slider bars for dim1, dim2, int_dim1 and int_dim2 are not active."
   ]
  },
  {
   "cell_type": "code",
   "execution_count": 8,
   "id": "742ee6fd-1c20-4c19-89ed-aa6b735f7c66",
   "metadata": {},
   "outputs": [
    {
     "data": {
      "application/vnd.jupyter.widget-view+json": {
       "model_id": "22e99f123e744eefaad72c754c726249",
       "version_major": 2,
       "version_minor": 0
      },
      "text/plain": [
       "interactive(children=(Dropdown(description='dim1', options=('x1', 'x2', 'y1', 'y3', 'x3'), value='x1'), Dropdo…"
      ]
     },
     "metadata": {},
     "output_type": "display_data"
    }
   ],
   "source": [
    "# Create figure\n",
    "fig = go.FigureWidget()\n",
    "heatmap = fig.add_heatmap()\n",
    "fig\n",
    "\n",
    "        \n",
    "@interact(dim1=list(dims),dim2=list(dims),int_dim1= list(dims),int_dim2= list(dims),\n",
    "          x1 = sliders[0], x2 = sliders[1], y1 = sliders[2], y3 = sliders[3], x3 = sliders[4],\n",
    "          clim_fix=False,clim=(0,100,.01),logscale=False)\n",
    "def update(dim1='x1',dim2='y1',int_dim1='x2',int_dim2='y3',\n",
    "           x1=cind[0],x2=cind[1],y1=cind[2],y3=cind[3],x3=cind[4],\n",
    "           logscale=False,clim_fix=False,clim=10):\n",
    "    \n",
    "    slices = []\n",
    "    for i in range(len(dims)):\n",
    "        if not(dims[i] in [dim1,dim2,int_dim1,int_dim2]):\n",
    "            slices.append(eval(dims[i]))\n",
    "            \n",
    "    with fig.batch_update():\n",
    "        ima = update_slice1_proj2(slices[0],dim1=dim1,dim2=dim2,int_dim1=int_dim1,int_dim2=int_dim2,cfix=clim_fix,clim=clim,log=logscale)\n",
    "        heatmap.data = ima\n"
   ]
  },
  {
   "cell_type": "code",
   "execution_count": null,
   "id": "574204de-a23e-4281-b968-b3421a66413a",
   "metadata": {},
   "outputs": [],
   "source": []
  }
 ],
 "metadata": {
  "kernelspec": {
   "display_name": "Python 3 (ipykernel)",
   "language": "python",
   "name": "python3"
  },
  "language_info": {
   "codemirror_mode": {
    "name": "ipython",
    "version": 3
   },
   "file_extension": ".py",
   "mimetype": "text/x-python",
   "name": "python",
   "nbconvert_exporter": "python",
   "pygments_lexer": "ipython3",
   "version": "3.9.5"
  }
 },
 "nbformat": 4,
 "nbformat_minor": 5
}
